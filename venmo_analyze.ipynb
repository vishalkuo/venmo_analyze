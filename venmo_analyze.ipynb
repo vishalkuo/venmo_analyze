{
 "cells": [
  {
   "cell_type": "code",
   "execution_count": null,
   "metadata": {},
   "outputs": [],
   "source": [
    "import csv\n",
    "from collections import defaultdict\n",
    "from enum import Enum\n",
    "from typing import Any, Dict, List\n",
    "import json\n",
    "from datetime import datetime\n",
    "\n",
    "import numpy as np\n",
    "import matplotlib.pyplot as plt"
   ]
  },
  {
   "cell_type": "code",
   "execution_count": null,
   "metadata": {},
   "outputs": [],
   "source": [
    "# CHANGE THIS TO YOUR TRANSACTIONS\n",
    "\n",
    "CSV_FILE_NAME = \"samples/download (1).csv\""
   ]
  },
  {
   "cell_type": "code",
   "execution_count": null,
   "metadata": {},
   "outputs": [],
   "source": [
    "class ChargeType(Enum):\n",
    "    PAYMENT = 1\n",
    "    STANDARD_TRANSFER = 2\n",
    "    CHARGE = 3\n",
    "\n",
    "class ChargeStatus(Enum):\n",
    "    COMPLETE = 1\n",
    "    ISSUED = 2\n",
    "    PENDING = 3\n",
    "\n",
    "class Header(Enum):\n",
    "    ID = 0\n",
    "    DATE_TIME = 1\n",
    "    TYPE = 2\n",
    "    STATUS = 3\n",
    "    NOTE = 4\n",
    "    FROM = 5\n",
    "    TO = 6\n",
    "    AMT = 7\n",
    "    FEE = 8\n",
    "    FUND_SOURCE = 9\n",
    "    DEST = 10\n",
    "\n",
    "class TransactionData(Enum):\n",
    "    NET_AMT = 0\n",
    "    GROUP_BY_FRIENDS = 1\n",
    "    GROUP_BY_DATE = 2"
   ]
  },
  {
   "cell_type": "code",
   "execution_count": null,
   "metadata": {},
   "outputs": [],
   "source": [
    "def _process_row(row: List[Any], data_dict: Dict[str, float]) -> None:\n",
    "    # -ve is money out, +ve is money in\n",
    "    if row[Header.TYPE.value] == ChargeType.STANDARD_TRANSFER:\n",
    "        return 0\n",
    "\n",
    "    if row[Header.STATUS.value] != ChargeStatus.COMPLETE:\n",
    "        return 0\n",
    "\n",
    "    dlr_amt = row[Header.AMT.value]\n",
    "    fees = row[Header.FEE.value]\n",
    "    if fees:\n",
    "        dlr_amt -= fees\n",
    "    date_str = row[Header.DATE_TIME.value]\n",
    "    transaction_date = datetime.strptime(date_str, \"%Y-%m-%dT%H:%M:%S\").date()\n",
    "\n",
    "    friend_dict = data_dict[TransactionData.GROUP_BY_FRIENDS.name]\n",
    "    date_dict = data_dict[TransactionData.GROUP_BY_DATE.name]\n",
    "\n",
    "    if row[Header.TYPE.value] == ChargeType.CHARGE or dlr_amt < 0:\n",
    "        friend_dict[row[Header.TO.value]] += dlr_amt\n",
    "    else:\n",
    "        friend_dict[row[Header.FROM.value]] += dlr_amt\n",
    "    \n",
    "    date_dict[transaction_date] += dlr_amt\n",
    "    data_dict[TransactionData.NET_AMT.name] += dlr_amt\n",
    "\n",
    "\n",
    "def _load_and_preprocess(csv_file: str) -> List[str]:\n",
    "    with open(csv_file) as f:\n",
    "        data = list(csv.reader(f))[1:]\n",
    "\n",
    "    for i in range(len(data)):\n",
    "        data_row = data[i]\n",
    "        _to_enum(data_row, Header.TYPE, ChargeType)\n",
    "        _to_enum(data_row, Header.STATUS, ChargeStatus)\n",
    "        _parse_dollar(data_row, Header.AMT)\n",
    "        _parse_dollar(data_row, Header.FEE)\n",
    "\n",
    "    return data\n",
    "\n",
    "\n",
    "def _to_enum(row: List[str], header: Header, klass) -> None:\n",
    "    item = row[header.value]\n",
    "    item = item.upper()\n",
    "    item = item.replace(\" \", \"_\")\n",
    "    row[header.value] = klass[item]\n",
    "\n",
    "\n",
    "def _parse_dollar(row: List[str], header: Header) -> float:\n",
    "    dlr_str = row[header.value]\n",
    "    if not dlr_str:\n",
    "        return 0\n",
    "    dlr_amt = round(float(dlr_str.split(\"$\")[1]), 2)\n",
    "    row[header.value] = dlr_amt if dlr_str.startswith(\"+\") else dlr_amt * -1"
   ]
  },
  {
   "cell_type": "code",
   "execution_count": null,
   "metadata": {},
   "outputs": [],
   "source": [
    "data = _load_and_preprocess(CSV_FILE_NAME)\n",
    "data_dict = {\n",
    "    TransactionData.NET_AMT.name: 0,\n",
    "    TransactionData.GROUP_BY_FRIENDS.name: defaultdict(float),\n",
    "    TransactionData.GROUP_BY_DATE.name: defaultdict(float),\n",
    "}\n",
    "for row in data:\n",
    "    _process_row(row, data_dict)\n",
    "\n",
    "print(f\"NET TRANSACTION TOTAL: {round(data_dict[TransactionData.NET_AMT.name], 2)}\")"
   ]
  },
  {
   "cell_type": "code",
   "execution_count": null,
   "metadata": {},
   "outputs": [],
   "source": [
    "friend_tuples = [(k, v) for k, v in data_dict[TransactionData.GROUP_BY_FRIENDS.name].items()]\n",
    "friends = [k[0] for k in friend_tuples]\n",
    "values = [k[1] for k in friend_tuples]\n",
    "\n",
    "plt.bar(friends, values)\n",
    "\n",
    "fig_size = plt.rcParams[\"figure.figsize\"]\n",
    "fig_size[0] = 40\n",
    "fig_size[1] = 20\n",
    "plt.rcParams[\"figure.figsize\"] = fig_size\n",
    "plt.rcParams.update({'font.size': 15})\n",
    "plt.grid(True)"
   ]
  },
  {
   "cell_type": "code",
   "execution_count": null,
   "metadata": {},
   "outputs": [],
   "source": [
    "date_tuples = [(k, v) for k, v in data_dict[TransactionData.GROUP_BY_DATE.name].items()]\n",
    "dates = [k[0] for k in date_tuples]\n",
    "date_values = [k[1] for k in date_tuples]\n",
    "\n",
    "plt.plot(dates, date_values,marker='o', color='b')\n",
    "\n",
    "fig_size = plt.rcParams[\"figure.figsize\"]\n",
    "fig_size[0] = 40\n",
    "fig_size[1] = 20\n",
    "plt.rcParams[\"figure.figsize\"] = fig_size\n",
    "plt.rcParams.update({'font.size': 15})\n",
    "plt.grid(True)"
   ]
  },
  {
   "cell_type": "code",
   "execution_count": null,
   "metadata": {},
   "outputs": [],
   "source": []
  }
 ],
 "metadata": {
  "kernelspec": {
   "display_name": "Python 3",
   "language": "python",
   "name": "python3"
  },
  "language_info": {
   "codemirror_mode": {
    "name": "ipython",
    "version": 3
   },
   "file_extension": ".py",
   "mimetype": "text/x-python",
   "name": "python",
   "nbconvert_exporter": "python",
   "pygments_lexer": "ipython3",
   "version": "3.6.2+"
  }
 },
 "nbformat": 4,
 "nbformat_minor": 2
}
